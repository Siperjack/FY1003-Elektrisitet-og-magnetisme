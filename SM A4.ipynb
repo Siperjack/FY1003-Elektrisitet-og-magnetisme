{
 "cells": [
  {
   "cell_type": "code",
   "execution_count": 94,
   "metadata": {},
   "outputs": [],
   "source": [
    "import sympy as smp\n",
    "#from sympy.integrals.transforms import _fourier_transform\n",
    "from sympy import *\n",
    "import numpy as np\n",
    "import matplotlib.pyplot as plt\n",
    "\n",
    "A, x, p, k, i, L = smp.symbols(\"A x p k i L\", real = True)\n",
    "a, h, w, m, r, b, R, epsilon, beta, k, T= smp.symbols(\"a h w m r b R epsilon beta k T\", real = True, positive = True)\n",
    "N = smp.symbols(\"N\", integer = True)"
   ]
  },
  {
   "cell_type": "markdown",
   "metadata": {},
   "source": [
    "##### 1a)\n",
    "\n",
    "The energy is distributed with the pdf $\\frac{e^{- \\beta E(q,p)}}{Z}$, and normalizing factor and partitionfunction $Z_1$ = $\\int_0^\\infty \\int_0^\\infty  {e^{- \\beta E(q,p)}} \\rho(q,p)dp dq$ where $\\rho(q,p)$ is the volum of the spherical shell we intagrate over because of the circular symmetry. In our case the energy $E(q,p) = K(p) + V(q) = \\frac{p^2}{2m} + \\epsilon(ln(|r|)-ln(b))$ and the the volume of the circular shell is $2\\pi p $ and $2\\pi r$ respectivly."
   ]
  },
  {
   "cell_type": "code",
   "execution_count": 95,
   "metadata": {},
   "outputs": [],
   "source": [
    "K = p**2/(2*m)\n",
    "V = ln(r/b)*epsilon\n",
    "boltzman = exp(-beta*(K + V))#exp(-beta*p**2/(2*m)*(r/b)**(epsilon * beta))\n",
    "boltzmanK = exp(-beta*K)\n",
    "boltzmanV = (r/b)**(-1*epsilon*beta)"
   ]
  },
  {
   "cell_type": "markdown",
   "metadata": {},
   "source": [
    "We then use the symbolic enviroment sympy to integrate these quanteties as described."
   ]
  },
  {
   "cell_type": "code",
   "execution_count": 96,
   "metadata": {
    "scrolled": false
   },
   "outputs": [],
   "source": [
    "# sump = smp.integrate(boltzman*(2*pi*p),(p,0, oo))\n",
    "# Z1 = smp.integrate(sump*(2*pi*r),(r,b, R))/(h)**2\n",
    "# print(latex(Z1.simplify()))"
   ]
  },
  {
   "cell_type": "markdown",
   "metadata": {},
   "source": [
    "Some algebraic manipulation on the result:\n",
    "\n",
    "$$\n",
    "Z_1 = \\begin{cases} \\frac{4 \\pi^{2} R^{- \\beta \\epsilon} m \\left(- R^{2} b^{\\beta \\epsilon} + R^{\\beta \\epsilon} b^{2}\\right)}{\\beta h^{2} \\left(\\beta \\epsilon - 2\\right)} & \\text{for}\\: \\beta \\neq \\frac{2}{\\epsilon} \\\\\\log{\\left(\\left(\\frac{R}{b}\\right)^{\\frac{4 \\pi^{2} b^{\\beta \\epsilon} m}{\\beta h^{2}}} \\right)} & \\text{otherwise} \\end{cases}\n",
    "= \\begin{cases} \\frac{4 \\pi^{2} b^2 m \\left(R^{2- \\beta \\epsilon} b^{\\beta \\epsilon - 2} -  1\\right)}{\\beta h^{2} \\left(2 -\\beta \\epsilon \\right)} & \\text{for}\\:\n",
    "\\beta \\neq \\frac{2}{\\epsilon} \\\\\\log{\\left(\\left(\\frac{R}{b}\\right)^{\\frac{4 \\pi^{2} b^{\\beta \\epsilon - 1} m}{h^{2}}} \\right)} & \\text{otherwise} \\end{cases} \n",
    "=\\begin{cases} \\frac{4 \\pi^{2} b^2 m \\left(\\frac{R^{2- \\beta \\epsilon} }{b^{2 - \\beta \\epsilon}} -  1\\right)}{\\beta h^{2} \\left(2 -\\beta \\epsilon \\right)} & \\text{for}\\:\n",
    "\\beta \\neq \\frac{2}{\\epsilon} \\\\\\log{\\left(\\left(\\frac{R}{b}\\right)^{\\frac{4 \\pi^{2} b^{\\beta \\epsilon - 1} m}{h^{2}}} \\right)} & \\text{otherwise} \\end{cases}\n",
    "$$\n",
    "\n",
    "Where the last expression is the one we are asked to show. We then save the expression below for further symbolic manipulation."
   ]
  },
  {
   "cell_type": "code",
   "execution_count": 97,
   "metadata": {},
   "outputs": [],
   "source": [
    "Z1 = (4*pi**2 * b**2 * m * ((R/b)**(2-beta*epsilon)-1))/(beta * h**2 * (2- beta*epsilon))"
   ]
  },
  {
   "cell_type": "markdown",
   "metadata": {},
   "source": [
    "##### 1b)"
   ]
  },
  {
   "cell_type": "code",
   "execution_count": 98,
   "metadata": {},
   "outputs": [],
   "source": [
    "U1 = smp.diff(- ln(Z1),beta)\n",
    "# print(latex(U1.simplify()))"
   ]
  },
  {
   "cell_type": "markdown",
   "metadata": {},
   "source": [
    "The avarage energy of the system is given by $$\\frac{-d ln(Z_1)}{d \\beta}$$, which is equvialent with integrating the boltzmandistribution $$\\int_0^\\infty \\int_0^\\infty  \\frac{E_{\\alpha} e^{- \\beta E(r,p)} 4\\pi^2 r p}{Z\\hbar^2}dpdr$$"
   ]
  },
  {
   "cell_type": "code",
   "execution_count": 99,
   "metadata": {},
   "outputs": [],
   "source": [
    "Kavg1 = smp.integrate(K*boltzmanK*(2*pi*p),(p,0, oo))\n",
    "Kavg = smp.integrate(Kavg1*boltzmanV*(2*pi*r),(r,b, R))/(Z1*h**2)\n",
    "Vavg1 = smp.integrate(V*boltzmanV*(2*pi*r),(r,b, R))\n",
    "Vavg = smp.integrate(Vavg1*boltzmanK*(2*pi*p),(p,0, oo))/(Z1*h**2)"
   ]
  },
  {
   "cell_type": "code",
   "execution_count": 100,
   "metadata": {},
   "outputs": [],
   "source": [
    "# print(latex(Kavg.simplify()))\n",
    "# print(latex(Vavg.simplify()))"
   ]
  },
  {
   "cell_type": "markdown",
   "metadata": {},
   "source": [
    "$$\n",
    "<U> = \\frac{R^{2} b^{\\beta \\epsilon} \\beta \\epsilon \\left(\\left(\\beta \\epsilon - 2\\right) \\log{\\left(R \\right)} + 1\\right) + R^{2} b^{\\beta \\epsilon} \\left(\\beta \\epsilon - 2\\right) - R^{\\beta \\epsilon} b^{2} \\beta \\epsilon \\left(\\left(\\beta \\epsilon - 2\\right) \\log{\\left(b \\right)} + 1\\right) + R^{\\beta \\epsilon} b^{2} \\left(- \\beta \\epsilon + 2\\right) - \\beta \\epsilon \\left(R^{2} b^{\\beta \\epsilon} - R^{\\beta \\epsilon} b^{2}\\right) \\left(\\beta \\epsilon - 2\\right) \\log{\\left(b \\right)}}{\\beta \\left(R^{2} b^{\\beta \\epsilon} - R^{\\beta \\epsilon} b^{2}\\right) \\left(\\beta \\epsilon - 2\\right)}\n",
    "= \\frac{\\epsilon(ln(R)+(\\beta \\epsilon-2)^{-1})) +\\frac{1}{\\beta}}{1 - R^{\\beta \\epsilon -2}b^{2-\\beta \\epsilon}} - \\frac{\\epsilon( ln(b) + (\\beta \\epsilon-2)^{-1})-\\frac{1}{\\beta}}{R^{2-\\beta \\epsilon}b^{\\beta \\epsilon -2}-1} - \\epsilon ln(b)\n",
    "$$\n",
    "\n",
    "$$\n",
    "<K> = \\begin{cases} \\frac{1}{\\beta} & \\text{for}\\: \\beta \\neq \\frac{2}{\\epsilon} \\\\\\frac{b^{- \\beta \\epsilon + 2}}{\\beta} & \\text{otherwise} \\end{cases}\n",
    "$$\n",
    "\n",
    "$$\n",
    "<V> = \\frac{\\epsilon \\left(\\beta \\epsilon - 2\\right) \\left(- R^{2} b^{\\beta \\epsilon} + R^{\\beta \\epsilon} b^{2} + \\log{\\left(R^{- R^{2} b^{\\beta \\epsilon} \\left(\\beta \\epsilon - 2\\right)} b^{R^{2} b^{\\beta \\epsilon} \\left(\\beta \\epsilon - 2\\right)} \\right)}\\right)}{\\left(R^{2} b^{\\beta \\epsilon} - R^{\\beta \\epsilon} b^{2}\\right) \\left(\\beta^{2} \\epsilon^{2} - 4 \\beta \\epsilon + 4\\right)}\n",
    "$$"
   ]
  },
  {
   "cell_type": "code",
   "execution_count": 101,
   "metadata": {},
   "outputs": [],
   "source": [
    "# Eavg = Kavg + Vavg\n",
    "# Eavg.simplify()"
   ]
  },
  {
   "cell_type": "code",
   "execution_count": 102,
   "metadata": {},
   "outputs": [],
   "source": [
    "# Vavg2 = (U1 - Kavg).simplify()"
   ]
  },
  {
   "cell_type": "code",
   "execution_count": 103,
   "metadata": {},
   "outputs": [],
   "source": [
    "# Vavg.simplify()"
   ]
  },
  {
   "cell_type": "markdown",
   "metadata": {},
   "source": [
    "##### 1c)\n",
    "If we assume R >> b, the expression $(\\frac{R}{b})^{2-\\epsilon \\beta}$ blows up in the limit $(\\frac{R}{b} \\rightarrow  \\infty)$ for $T > T_c = \\frac{\\epsilon}{2 k_b}$ and goes to zero as $T < T_c = \\frac{\\epsilon}{2 k_b}$ A physical interpretation of this is that for a sufficiently high termal energy, an electron in the container with a huge volume be able to have loads of different enegylevels with decent changes, while at low temperature the potential energy dominates and the tail of the boltzmann distributioan are much slimmer. "
   ]
  },
  {
   "cell_type": "code",
   "execution_count": 104,
   "metadata": {},
   "outputs": [],
   "source": [
    "# sump = smp.integrate(boltzman*(2*pi*p),(p,0, oo))\n",
    "# Z1 = smp.integrate(sump*(2*pi*r),(r,b, R))/(h)**2"
   ]
  },
  {
   "cell_type": "code",
   "execution_count": 105,
   "metadata": {},
   "outputs": [],
   "source": [
    "# U1.subs(b, R/1000)"
   ]
  },
  {
   "cell_type": "markdown",
   "metadata": {},
   "source": [
    "##### 1d)\n",
    "Helmoltz free energy F is given by $-k_B T ln(Z_1)$, and it will for $T > T_c$ diverge when $(\\frac{R}{b} \\rightarrow  \\infty)$ and konverge at the same limit for $T < T_c$.\n"
   ]
  },
  {
   "cell_type": "code",
   "execution_count": 106,
   "metadata": {
    "scrolled": true
   },
   "outputs": [
    {
     "data": {
      "text/latex": [
       "$\\displaystyle - \\frac{\\log{\\left(- \\frac{4 \\pi^{2} b^{2} m \\left(R^{- \\beta \\epsilon + 2} b^{\\beta \\epsilon - 2} - 1\\right)}{\\beta h^{2} \\left(\\beta \\epsilon - 2\\right)} \\right)}}{\\beta}$"
      ],
      "text/plain": [
       "-log(-4*pi**2*b**2*m*(R**(-beta*epsilon + 2)*b**(beta*epsilon - 2) - 1)/(beta*h**2*(beta*epsilon - 2)))/beta"
      ]
     },
     "execution_count": 106,
     "metadata": {},
     "output_type": "execute_result"
    }
   ],
   "source": [
    "F1 = -smp.log(Z1)/beta\n",
    "# F = F.subs(beta,k*T)\n",
    "# F = F.subs(b,1)\n",
    "F1.simplify()"
   ]
  },
  {
   "cell_type": "markdown",
   "metadata": {},
   "source": [
    "##### 1e)"
   ]
  },
  {
   "cell_type": "code",
   "execution_count": 107,
   "metadata": {},
   "outputs": [
    {
     "data": {
      "text/latex": [
       "$\\displaystyle \\frac{- b^{2} \\left(R^{- \\beta \\epsilon + 2} b^{\\beta \\epsilon - 2} - 1\\right) \\left(- \\beta \\epsilon + 2\\right)^{2} \\log{\\left(\\frac{4 \\pi^{2} b^{2} m \\left(- R^{- \\beta \\epsilon + 2} b^{\\beta \\epsilon - 2} + 1\\right)}{\\beta h^{2} \\left(\\beta \\epsilon - 2\\right)} \\right)} + \\left(\\beta \\epsilon - 2\\right) \\left(- b^{2} \\beta \\epsilon \\left(R^{- \\beta \\epsilon + 2} b^{\\beta \\epsilon - 2} - 1\\right) + b^{2} \\left(R^{- \\beta \\epsilon + 2} b^{\\beta \\epsilon - 2} - 1\\right) \\left(- \\beta \\epsilon + 2\\right) + \\log{\\left(\\left(\\frac{R}{b}\\right)^{R^{- \\beta \\epsilon + 2} b^{\\beta \\epsilon} \\beta \\epsilon \\left(- \\beta \\epsilon + 2\\right)} \\right)}\\right)}{T b^{2} \\beta \\left(R^{- \\beta \\epsilon + 2} b^{\\beta \\epsilon - 2} - 1\\right) \\left(- \\beta \\epsilon + 2\\right)^{2}}$"
      ],
      "text/plain": [
       "(-b**2*(R**(-beta*epsilon + 2)*b**(beta*epsilon - 2) - 1)*(-beta*epsilon + 2)**2*log(4*pi**2*b**2*m*(-R**(-beta*epsilon + 2)*b**(beta*epsilon - 2) + 1)/(beta*h**2*(beta*epsilon - 2))) + (beta*epsilon - 2)*(-b**2*beta*epsilon*(R**(-beta*epsilon + 2)*b**(beta*epsilon - 2) - 1) + b**2*(R**(-beta*epsilon + 2)*b**(beta*epsilon - 2) - 1)*(-beta*epsilon + 2) + log((R/b)**(R**(-beta*epsilon + 2)*b**(beta*epsilon)*beta*epsilon*(-beta*epsilon + 2)))))/(T*b**2*beta*(R**(-beta*epsilon + 2)*b**(beta*epsilon - 2) - 1)*(-beta*epsilon + 2)**2)"
      ]
     },
     "execution_count": 107,
     "metadata": {},
     "output_type": "execute_result"
    }
   ],
   "source": [
    "S1 = (F1 - U1)/T\n",
    "S1.simplify()"
   ]
  },
  {
   "cell_type": "markdown",
   "metadata": {},
   "source": [
    "##### 1f)\n",
    "By no intermolecular powers, the partition function $Z = \\prod_{i=1}^N Z_i = Z^N$, and because the electrons are assumed to be indistinguishable, we must correct the overcounting with the $\\frac{1}{N!}$ factor. The result therefore is $Z_N = \\frac{Z^N}{N!}$"
   ]
  },
  {
   "cell_type": "code",
   "execution_count": 108,
   "metadata": {},
   "outputs": [
    {
     "data": {
      "text/latex": [
       "$\\displaystyle \\frac{\\left(\\frac{4 \\pi^{2} b^{2} m \\left(\\left(\\frac{R}{b}\\right)^{- \\beta \\epsilon + 2} - 1\\right)}{\\beta h^{2} \\left(- \\beta \\epsilon + 2\\right)}\\right)^{N}}{N!}$"
      ],
      "text/plain": [
       "(4*pi**2*b**2*m*((R/b)**(-beta*epsilon + 2) - 1)/(beta*h**2*(-beta*epsilon + 2)))**N/factorial(N)"
      ]
     },
     "execution_count": 108,
     "metadata": {},
     "output_type": "execute_result"
    }
   ],
   "source": [
    "ZN = Z1**N/factorial(N)\n",
    "ZN"
   ]
  },
  {
   "cell_type": "code",
   "execution_count": 109,
   "metadata": {
    "scrolled": true
   },
   "outputs": [
    {
     "data": {
      "text/latex": [
       "$\\displaystyle \\frac{N \\left(- b^{2} \\beta \\epsilon \\left(R^{- \\beta \\epsilon + 2} b^{\\beta \\epsilon - 2} - 1\\right) - b^{2} \\left(R^{- \\beta \\epsilon + 2} b^{\\beta \\epsilon - 2} - 1\\right) \\left(\\beta \\epsilon - 2\\right) - \\log{\\left(\\left(\\frac{R}{b}\\right)^{R^{- \\beta \\epsilon + 2} b^{\\beta \\epsilon} \\beta \\epsilon \\left(\\beta \\epsilon - 2\\right)} \\right)}\\right)}{b^{2} \\beta \\left(- R^{- \\beta \\epsilon + 2} b^{\\beta \\epsilon - 2} + 1\\right) \\left(\\beta \\epsilon - 2\\right)}$"
      ],
      "text/plain": [
       "N*(-b**2*beta*epsilon*(R**(-beta*epsilon + 2)*b**(beta*epsilon - 2) - 1) - b**2*(R**(-beta*epsilon + 2)*b**(beta*epsilon - 2) - 1)*(beta*epsilon - 2) - log((R/b)**(R**(-beta*epsilon + 2)*b**(beta*epsilon)*beta*epsilon*(beta*epsilon - 2))))/(b**2*beta*(-R**(-beta*epsilon + 2)*b**(beta*epsilon - 2) + 1)*(beta*epsilon - 2))"
      ]
     },
     "execution_count": 109,
     "metadata": {},
     "output_type": "execute_result"
    }
   ],
   "source": [
    "UN = smp.diff(-ln(ZN),beta)\n",
    "UN.simplify()"
   ]
  },
  {
   "cell_type": "code",
   "execution_count": 110,
   "metadata": {},
   "outputs": [
    {
     "data": {
      "text/latex": [
       "$\\displaystyle \\frac{N \\beta \\epsilon \\log{\\left(R \\right)} - \\log{\\left(\\frac{\\left(\\beta h^{2} \\left(\\beta \\epsilon - 2\\right)\\right)^{- N} \\left(4 \\pi^{2} m \\left(- R^{2} b^{\\beta \\epsilon} + R^{\\beta \\epsilon} b^{2}\\right)\\right)^{N}}{N!} \\right)}}{\\beta}$"
      ],
      "text/plain": [
       "(N*beta*epsilon*log(R) - log((beta*h**2*(beta*epsilon - 2))**(-N)*(4*pi**2*m*(-R**2*b**(beta*epsilon) + R**(beta*epsilon)*b**2))**N/factorial(N)))/beta"
      ]
     },
     "execution_count": 110,
     "metadata": {},
     "output_type": "execute_result"
    }
   ],
   "source": [
    "FN = -ln(ZN)/beta\n",
    "FN.simplify()"
   ]
  },
  {
   "cell_type": "markdown",
   "metadata": {},
   "source": [
    "##### 1g)\n",
    "The pressure $p$ is given by the partial derivative of avg energy helmoltz energy F with respect to volume V, holding N and T constant. In this task do not get to the solution."
   ]
  },
  {
   "cell_type": "code",
   "execution_count": 111,
   "metadata": {},
   "outputs": [
    {
     "name": "stdout",
     "output_type": "stream",
     "text": [
      "\\frac{N \\log{\\left(\\beta \\right)} + 2 N \\log{\\left(h \\right)} - \\log{\\left(\\frac{\\left(2 \\pi^{2} m \\left(R^{2} - b^{2}\\right)\\right)^{N}}{N!} \\right)}}{\\beta}\n"
     ]
    }
   ],
   "source": [
    "FN = FN.subs(epsilon,0)\n",
    "#FN = FN.subs(b,0)\n",
    "FN = FN.simplify()\n",
    "#FN = FN.subs(b,0)\n",
    "# pN = smp.diff(FN,V)\n",
    "FN = FN.simplify()\n",
    "print(latex(FN))"
   ]
  },
  {
   "cell_type": "markdown",
   "metadata": {},
   "source": [
    "$$\n",
    "\\frac{N \\log{\\left(\\beta \\right)} + 2 N \\log{\\left(h \\right)} - \\log{\\left(\\frac{\\left(2 \\pi^{2} m \\left(R^{2} - b^{2}\\right)\\right)^{N}}{N!} \\right)}}{\\beta}\n",
    "$$"
   ]
  },
  {
   "cell_type": "markdown",
   "metadata": {},
   "source": [
    "##### 1h)"
   ]
  },
  {
   "cell_type": "markdown",
   "metadata": {},
   "source": [
    "NA"
   ]
  }
 ],
 "metadata": {
  "kernelspec": {
   "display_name": "Python 3",
   "language": "python",
   "name": "python3"
  },
  "language_info": {
   "codemirror_mode": {
    "name": "ipython",
    "version": 3
   },
   "file_extension": ".py",
   "mimetype": "text/x-python",
   "name": "python",
   "nbconvert_exporter": "python",
   "pygments_lexer": "ipython3",
   "version": "3.8.3"
  }
 },
 "nbformat": 4,
 "nbformat_minor": 4
}
