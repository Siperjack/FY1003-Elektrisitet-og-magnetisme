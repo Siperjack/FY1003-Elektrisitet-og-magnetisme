{
 "cells": [
  {
   "cell_type": "markdown",
   "metadata": {},
   "source": [
    "# Statistical Physics numerical project"
   ]
  },
  {
   "cell_type": "markdown",
   "metadata": {},
   "source": [
    "##### Libraries"
   ]
  },
  {
   "cell_type": "code",
   "execution_count": 84,
   "metadata": {},
   "outputs": [],
   "source": [
    "import numpy as np\n",
    "import matplotlib.pyplot as plt"
   ]
  },
  {
   "cell_type": "markdown",
   "metadata": {},
   "source": [
    "##### constants"
   ]
  },
  {
   "cell_type": "code",
   "execution_count": 85,
   "metadata": {},
   "outputs": [],
   "source": [
    "from scipy.constants import k #Boltzmann\n",
    "T = 1/k # 273 + 727"
   ]
  },
  {
   "cell_type": "markdown",
   "metadata": {},
   "source": [
    "##### Functions"
   ]
  },
  {
   "cell_type": "code",
   "execution_count": 86,
   "metadata": {},
   "outputs": [],
   "source": [
    "#Wall attraction potential\n",
    "def V_x(r, K, L):\n",
    "    if r[0] > L:\n",
    "        return K*(r[0] - L)**2 / 2\n",
    "    elif r[0] < 0:\n",
    "        return K*r[0]**2 / 2\n",
    "    else:\n",
    "        return 0\n",
    "    \n",
    "def V_y(r, K, L):\n",
    "    if r[1] > L:\n",
    "        return K*(r[1] - L)**2 / 2\n",
    "    elif r[1] < 0:\n",
    "        return K*r[1]**2 / 2\n",
    "    else:\n",
    "        return 0\n",
    "\n",
    "def V_w(r, K = 1, L = 1):\n",
    "    return V_x(r, K, L) + V_y(r, K, L)\n",
    "\n",
    "#Hardcore interaction\n",
    "\n",
    "def V_h(rij, a = 1, U = 1000*k*T):\n",
    "    if rij > a:\n",
    "        return U\n",
    "    else:\n",
    "        return 0\n",
    "\n",
    "#Lennard-Jones interaction\n",
    "def V_LJ(rij, a = 1, eps = 1):\n",
    "    return eps * ( (a/rij)**12 - 2*(a/rij)**6)\n",
    "\n",
    "#no interaction\n",
    "def no_V(rij):\n",
    "    return 0\n",
    "\n",
    "#Hamiltionian, where p,q are shape = (N,2)\n",
    "def total_H(p, q, V):\n",
    "    zum = 0\n",
    "    N = len(p)\n",
    "    for i in range(N):\n",
    "        for pi in p[i]:\n",
    "            zum += pi**2 / (2*m)\n",
    "        for ri in q[i]:\n",
    "            zum += V_w(ri)\n",
    "        for j in range(i + 1, N):\n",
    "            for component in range(2):\n",
    "                zum += V(q[i, component] - q[j, component])\n",
    "    return zum\n",
    "\n",
    "def total_V(q, V):\n",
    "    zum = 0\n",
    "    N = len(q)\n",
    "    for i in range(N):\n",
    "        for ri in q[i]:\n",
    "            zum += V_w(ri)\n",
    "        for j in range(i + 1, N):\n",
    "            for component in range(2):\n",
    "                zum += V(q[i, component] - q[j, component])\n",
    "    return zum\n",
    "\n",
    "def calc_E_change(q, new_q, index, V, L):\n",
    "    change = 0\n",
    "#     for component in range(2):\n",
    "#         change += V_w(new_q[index, component]) - V_w(q[index, component])\n",
    "    change += V_w(new_q[index], L = L) - V_w(q[index], L = L)\n",
    "    for i in range(0, N):\n",
    "        if i == index:\n",
    "            continue\n",
    "        for component in range(2):\n",
    "            change += V(new_q[index, component] - new_q[i, component]) - V(q[index, component] - q[i, component])\n",
    "    return change"
   ]
  },
  {
   "cell_type": "code",
   "execution_count": 87,
   "metadata": {},
   "outputs": [],
   "source": [
    "def pos_prob(q, V):\n",
    "    #q is a list of n particles in 2 dim, the potential\n",
    "    N = len(q)\n",
    "    V = total_V(q, V)\n",
    "    return (2*np.pi*m*k*T)**N * np.exp(-zum/(k*T))"
   ]
  },
  {
   "cell_type": "code",
   "execution_count": 88,
   "metadata": {},
   "outputs": [],
   "source": [
    "def monteCarlo(N, M, V, b, L = 1, init_config = 1.0):\n",
    "    ### N = number of particles, M = steps, V = potential, b = length of box\n",
    "    \n",
    "    #initialising starting config if not given as a parameter\n",
    "    if np.linalg.norm(init_config) == 1.0:\n",
    "        config = np.zeros((N, 2))\n",
    "        for i in range(N):\n",
    "            x = np.random.uniform(0, 1)\n",
    "            y = np.random.uniform(0, 1)\n",
    "            config[i,:] = np.array([x, y])\n",
    "    else: \n",
    "        config = init_config\n",
    "    plt.title(\"init config\")\n",
    "    plt.scatter(config[:,0], config[:,1])\n",
    "        \n",
    "    for step in range(M):\n",
    "        rand_select = np.random.randint(0, N)\n",
    "        r1 = np.random.uniform(0,1)\n",
    "        r2 = np.random.uniform(0,1)\n",
    "        pos = config[rand_select]\n",
    "        x_try = pos[0] + (r1 - 0.5)*b\n",
    "        y_try = pos[1] + (r2 - 0.5)*b\n",
    "        new_config = np.copy(config)\n",
    "        new_config[rand_select,:] = np.array([x_try, y_try])\n",
    "        \n",
    "        #calculating change in energy with the posisjon change randomly generated\n",
    "        change_in_E = calc_E_change(config, new_config, rand_select, V, L)\n",
    "        if change_in_E <= 0:\n",
    "            config = new_config\n",
    "        else:\n",
    "            random_uni = np.random.uniform(0,1)\n",
    "            if random_uni < np.exp(-change_in_E/(k*T)):\n",
    "                config = new_config\n",
    "                \n",
    "    return config"
   ]
  },
  {
   "cell_type": "markdown",
   "metadata": {},
   "source": [
    "##### 1.a)"
   ]
  },
  {
   "cell_type": "code",
   "execution_count": 89,
   "metadata": {},
   "outputs": [
    {
     "data": {
      "text/plain": [
       "(100, 2)"
      ]
     },
     "execution_count": 89,
     "metadata": {},
     "output_type": "execute_result"
    }
   ],
   "source": [
    "N = 100\n",
    "M = 1000*2\n",
    "Nsim = 10\n",
    "consentrated_in_middle_config = np.full((N,2), 0.5)\n",
    "np.shape(consentrated_in_middle_config)"
   ]
  },
  {
   "cell_type": "code",
   "execution_count": 91,
   "metadata": {},
   "outputs": [
    {
     "data": {
      "image/png": "[encoded data removed]",
      "text/plain": [
       "<Figure size 432x288 with 1 Axes>"
      ]
     },
     "metadata": {
      "needs_background": "light"
     },
     "output_type": "display_data"
    }
   ],
   "source": [
    "generated_microstates = np.zeros((Nsim, N, 2))\n",
    "for i in range(Nsim):\n",
    "    generated_microstates[i] = monteCarlo(N, M, no_V, 0.5, 1, np.copy(consentrated_in_middle_config))"
   ]
  },
  {
   "cell_type": "code",
   "execution_count": 92,
   "metadata": {},
   "outputs": [
    {
     "data": {
      "text/plain": [
       "<matplotlib.collections.PathCollection at 0x2993fd8aaf0>"
      ]
     },
     "execution_count": 92,
     "metadata": {},
     "output_type": "execute_result"
    },
    {
     "data": {
      "image/png": "[encoded data removed]",
      "text/plain": [
       "<Figure size 432x288 with 1 Axes>"
      ]
     },
     "metadata": {
      "needs_background": "light"
     },
     "output_type": "display_data"
    }
   ],
   "source": [
    "plt.title(f\"simulated config, L = {1} & N = {N}\")\n",
    "plt.scatter(generated_microstates[0,:,0], generated_microstates[0,:,1])"
   ]
  },
  {
   "cell_type": "markdown",
   "metadata": {},
   "source": [
    "We want to calculatet the ensamble avarage over the generated mictrostates given the formula \n",
    "$$\n",
    "P_i = \\frac{F}{A} = -\\frac{\\nabla V}{L^2} = \\sum -\\frac{\\nabla V_i}{L^2}\n",
    "$$"
   ]
  },
  {
   "cell_type": "code",
   "execution_count": 93,
   "metadata": {},
   "outputs": [],
   "source": [
    "#Wall attraction force\n",
    "def F_x(r, K, L):\n",
    "    if r[0] > L:\n",
    "        return K*(r[0] - L)\n",
    "    elif r[0] < 0:\n",
    "        return K*r[0]\n",
    "    else:\n",
    "        return 0\n",
    "    \n",
    "def F_y(r, K, L):\n",
    "    if r[1] > L:\n",
    "        return K*(r[1] - L)\n",
    "    elif r[1] < 0:\n",
    "        return K*r[1]\n",
    "    else:\n",
    "        return 0\n",
    "\n",
    "def F_w(r, K = 1, L = 1):\n",
    "    return F_x(r, K, L) + F_y(r, K, L)\n",
    "\n",
    "def total_F(q, V):\n",
    "    zum = 0\n",
    "    N = len(q)\n",
    "    for i in range(N):\n",
    "        zum += abs(F_w(q[i]))\n",
    "    return zum"
   ]
  },
  {
   "cell_type": "code",
   "execution_count": 119,
   "metadata": {},
   "outputs": [
    {
     "data": {
      "image/png": "[encoded data removed]",
      "text/plain": [
       "<Figure size 432x288 with 1 Axes>"
      ]
     },
     "metadata": {
      "needs_background": "light"
     },
     "output_type": "display_data"
    }
   ],
   "source": [
    "Lvalues = np.linspace(1, 10, 10)\n",
    "generated_microstates = np.zeros((len(Lvalues),Nsim, N, 2))\n",
    "count = 0\n",
    "for L in Lvalues:\n",
    "    for i in range(Nsim):\n",
    "        generated_microstates[count, i] = monteCarlo(N, M, no_V, 0.5, L, np.copy(consentrated_in_middle_config))\n",
    "    count +=1"
   ]
  },
  {
   "cell_type": "code",
   "execution_count": 122,
   "metadata": {},
   "outputs": [],
   "source": [
    "PLs = np.zeros((len(Lvalues)))\n",
    "for j in range(len(Lvalues)):\n",
    "        PLs[j] = sum([total_F(generated_microstates[j,i], no_V) for i in range(len(generated_microstates))])/Lvalues[j]**2"
   ]
  },
  {
   "cell_type": "code",
   "execution_count": 123,
   "metadata": {},
   "outputs": [
    {
     "name": "stdout",
     "output_type": "stream",
     "text": [
      "[100.          25.          11.11111111   6.25         4.\n",
      "   2.77777778   2.04081633   1.5625       1.2345679    1.        ]\n"
     ]
    },
    {
     "data": {
      "text/plain": [
       "<matplotlib.legend.Legend at 0x2993fddf880>"
      ]
     },
     "execution_count": 123,
     "metadata": {},
     "output_type": "execute_result"
    },
    {
     "data": {
      "image/png": "[encoded data removed]",
      "text/plain": [
       "<Figure size 432x288 with 1 Axes>"
      ]
     },
     "metadata": {
      "needs_background": "light"
     },
     "output_type": "display_data"
    }
   ],
   "source": [
    "plt.plot(Lvalues, PLs, label = \"Monte-Carlo\")\n",
    "def ideel_gass(N, k, T, L):\n",
    "    return N*k*T/L**2\n",
    "Pvalues = np.array([ideel_gass(N, k, T, L) for L in Lvalues])\n",
    "print(Pvalues)\n",
    "plt.plot(Lvalues, Pvalues, label = \"ideel gass\")\n",
    "plt.legend()"
   ]
  },
  {
   "cell_type": "markdown",
   "metadata": {},
   "source": [
    "##### 1b)"
   ]
  },
  {
   "cell_type": "code",
   "execution_count": 124,
   "metadata": {},
   "outputs": [
    {
     "data": {
      "image/png": "[encoded data removed]",
      "text/plain": [
       "<Figure size 432x288 with 1 Axes>"
      ]
     },
     "metadata": {
      "needs_background": "light"
     },
     "output_type": "display_data"
    }
   ],
   "source": [
    "Lvalues = np.linspace(1, 10, 10)\n",
    "generated_microstates = np.zeros((len(Lvalues),Nsim, N, 2))\n",
    "count = 0\n",
    "for L in Lvalues:\n",
    "    for i in range(Nsim):\n",
    "        generated_microstates[count, i] = monteCarlo(N, M, V_h, 0.5, L, np.copy(consentrated_in_middle_config))\n",
    "    count +=1"
   ]
  },
  {
   "cell_type": "code",
   "execution_count": null,
   "metadata": {},
   "outputs": [],
   "source": [
    "plt.plot(Lvalues, PLs, label = \"Monte-Carlo\")\n",
    "def var_der_waals_gass(N, k, T, L):\n",
    "    return N*k*T/L**2\n",
    "Pvalues = np.array([ideel_gass(N, k, T, L) for L in Lvalues])\n",
    "print(Pvalues)\n",
    "plt.plot(Lvalues, Pvalues, label = \"ideel gass\")\n",
    "plt.legend()"
   ]
  }
 ],
 "metadata": {
  "kernelspec": {
   "display_name": "Python 3",
   "language": "python",
   "name": "python3"
  },
  "language_info": {
   "codemirror_mode": {
    "name": "ipython",
    "version": 3
   },
   "file_extension": ".py",
   "mimetype": "text/x-python",
   "name": "python",
   "nbconvert_exporter": "python",
   "pygments_lexer": "ipython3",
   "version": "3.8.3"
  }
 },
 "nbformat": 4,
 "nbformat_minor": 4
}
