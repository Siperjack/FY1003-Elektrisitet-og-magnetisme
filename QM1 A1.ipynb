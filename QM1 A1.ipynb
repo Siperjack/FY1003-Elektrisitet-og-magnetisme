{
 "cells": [
  {
   "cell_type": "markdown",
   "metadata": {},
   "source": [
    "# Kvante A1"
   ]
  },
  {
   "cell_type": "code",
   "execution_count": 11,
   "metadata": {},
   "outputs": [],
   "source": [
    "import sympy as smp\n",
    "from sympy.integrals.transforms import _fourier_transform\n",
    "from sympy import *\n",
    "import numpy as np\n",
    "import matplotlib.pyplot as plt"
   ]
  },
  {
   "cell_type": "code",
   "execution_count": 12,
   "metadata": {},
   "outputs": [],
   "source": [
    "A, x, p, k, i, L = smp.symbols(\"A x p k i L\", real = True)\n",
    "a, h, w, m, r, b, epsilon, beta, R= smp.symbols(\"a h w m r b epsilon beta R\", real = True, positive = True)"
   ]
  },
  {
   "cell_type": "markdown",
   "metadata": {},
   "source": [
    "$$ a = (\\frac{mw}{h})^{\\frac{1}{2}}$$"
   ]
  },
  {
   "cell_type": "markdown",
   "metadata": {},
   "source": [
    "##### Via position basis:"
   ]
  },
  {
   "cell_type": "code",
   "execution_count": 13,
   "metadata": {},
   "outputs": [],
   "source": [
    "Psi_x = A*smp.exp(-Rational(1,2)*m *w/h * x**2)\n",
    "Psi_x = A*smp.exp(-a * x**2 * Rational(1,2))"
   ]
  },
  {
   "cell_type": "code",
   "execution_count": 14,
   "metadata": {},
   "outputs": [],
   "source": [
    "Psi_x_diff1 = smp.diff(Psi_x,x)\n",
    "Psi_x_diff2 = smp.diff(Psi_x_diff1,x)"
   ]
  },
  {
   "cell_type": "code",
   "execution_count": 15,
   "metadata": {},
   "outputs": [
    {
     "name": "stdout",
     "output_type": "stream",
     "text": [
      "\\frac{\\sqrt{\\pi} A^{2}}{2 a^{\\frac{3}{2}}}\n",
      "\\frac{\\sqrt{\\pi} A^{2} \\sqrt{a} h^{2}}{2}\n"
     ]
    }
   ],
   "source": [
    "x2_moment_via_x = smp.integrate(Psi_x * x**2 * Psi_x,(x,-oo, oo))\n",
    "p2_moment_via_x = smp.integrate(Psi_x * -h**2 * Psi_x_diff2,(x,-oo, oo))\n",
    "print(smp.latex(x2_moment_via_x))\n",
    "print(smp.latex(p2_moment_via_x))#.evalf(subs = {a:h})"
   ]
  },
  {
   "cell_type": "markdown",
   "metadata": {},
   "source": [
    "$$\n",
    "<x^2> = \\frac{\\sqrt{\\pi} A^{2}}{2 a^{\\frac{3}{2}}}\n",
    "$$\n",
    "\n",
    "$$ \n",
    "<p^2> = \\frac{\\sqrt{\\pi} A^{2} \\sqrt{a} h^{2}}{2} \n",
    "$$"
   ]
  },
  {
   "cell_type": "markdown",
   "metadata": {},
   "source": [
    "##### Via momentum basis"
   ]
  },
  {
   "cell_type": "code",
   "execution_count": 16,
   "metadata": {},
   "outputs": [],
   "source": [
    "Psi_p = smp.symbols(\"\\Psi_b\", cls = smp.Function)\n",
    "Psi_p = _fourier_transform(Psi_x,x,p,(1/(2*pi*h))**(1/2),-1/h, Psi_p)"
   ]
  },
  {
   "cell_type": "code",
   "execution_count": 17,
   "metadata": {},
   "outputs": [],
   "source": [
    "Psi_p_diff1 = smp.diff(Psi_p,p)\n",
    "Psi_p_diff2 = smp.diff(Psi_p_diff1,p)"
   ]
  },
  {
   "cell_type": "code",
   "execution_count": 18,
   "metadata": {},
   "outputs": [
    {
     "name": "stdout",
     "output_type": "stream",
     "text": [
      "\\frac{0.5 \\sqrt{\\pi} A^{2}}{a^{\\frac{3}{2}}}\n",
      "0.5 \\sqrt{\\pi} A^{2} \\sqrt{a} h^{2}\n"
     ]
    }
   ],
   "source": [
    "p2_moment_via_p = smp.integrate(Psi_p *p**2 * Psi_p,(p,-oo, oo))\n",
    "x2_moment_via_p = smp.integrate(Psi_p * -h**2 * Psi_p_diff2,(p,-oo, oo))\n",
    "print(smp.latex(x2_moment_via_p))\n",
    "print(smp.latex(p2_moment_via_p))"
   ]
  },
  {
   "cell_type": "markdown",
   "metadata": {},
   "source": [
    "$$\n",
    "<x^2> = \\frac{0.5 \\sqrt{\\pi} A^{2}}{a^{\\frac{3}{2}}}\n",
    "$$\n",
    "$$ \n",
    "<p^2> = 0.5 \\sqrt{\\pi} A^{2} \\sqrt{a} h^{2} \n",
    "$$"
   ]
  }
 ],
 "metadata": {
  "kernelspec": {
   "display_name": "Python 3",
   "language": "python",
   "name": "python3"
  },
  "language_info": {
   "codemirror_mode": {
    "name": "ipython",
    "version": 3
   },
   "file_extension": ".py",
   "mimetype": "text/x-python",
   "name": "python",
   "nbconvert_exporter": "python",
   "pygments_lexer": "ipython3",
   "version": "3.8.3"
  }
 },
 "nbformat": 4,
 "nbformat_minor": 4
}
